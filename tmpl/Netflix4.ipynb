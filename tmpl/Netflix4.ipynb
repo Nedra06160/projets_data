{
 "cells": [
  {
   "cell_type": "code",
   "execution_count": 33,
   "metadata": {},
   "outputs": [
    {
     "name": "stdout",
     "output_type": "stream",
     "text": [
      "entrer un nom de directeur Josh Wakely\n"
     ]
    },
    {
     "data": {
      "text/html": [
       "<div>\n",
       "<style scoped>\n",
       "    .dataframe tbody tr th:only-of-type {\n",
       "        vertical-align: middle;\n",
       "    }\n",
       "\n",
       "    .dataframe tbody tr th {\n",
       "        vertical-align: top;\n",
       "    }\n",
       "\n",
       "    .dataframe thead th {\n",
       "        text-align: right;\n",
       "    }\n",
       "</style>\n",
       "<table border=\"1\" class=\"dataframe\">\n",
       "  <thead>\n",
       "    <tr style=\"text-align: right;\">\n",
       "      <th></th>\n",
       "      <th>title</th>\n",
       "    </tr>\n",
       "  </thead>\n",
       "  <tbody>\n",
       "    <tr>\n",
       "      <th>0</th>\n",
       "      <td>Beat Bugs: All Together Now</td>\n",
       "    </tr>\n",
       "  </tbody>\n",
       "</table>\n",
       "</div>"
      ],
      "text/plain": [
       "                         title\n",
       "0  Beat Bugs: All Together Now"
      ]
     },
     "execution_count": 33,
     "metadata": {},
     "output_type": "execute_result"
    }
   ],
   "source": [
    "import sqlalchemy as sql\n",
    "import pandas as pd \n",
    "import seaborn as sns\n",
    "import matplotlib.pyplot as plt\n",
    "from sqlalchemy import create_engine\n",
    "from jinja2 import Environment, FileSystemLoader\n",
    "tmpl=\"\"\n",
    "fichier=\"rapport.jinja\"\n",
    "directeur=input(\"entrer un nom de directeur \")\n",
    "engine=create_engine(\"mysql+pymysql://root:Simplon1:@localhost:3306/netflix\")\n",
    "film_dir=pd.read_sql_query('select title from netflix.show join director_show on director_show.show_id=show.show_id join director on director.director_id= director_show.director_id where director.director_id in (select director_id from director where director=\"%s\")'%(directeur), engine)\n",
    "\n",
    "#Josh Wakely\n",
    "\n",
    "film_dir\n",
    "\n",
    "\n"
   ]
  },
  {
   "cell_type": "code",
   "execution_count": 36,
   "metadata": {},
   "outputs": [],
   "source": [
    "cat_dir=pd.read_sql_query(\"select listed_in from netflix.show join director_show on director_show.show_id=show.show_id join director on director.director_id= director_show.director_id join listed_in_show on listed_in_show.show_id=show.show_id join listed_in on listed_in.listed_in_id=listed_in_show.listed_in_id where director.director_id in (select director_id from director where director='%s')\"%(directeur), engine)\n",
    "plt.figure(figsize=[5,5])\n",
    "plt.subplot(111)\n",
    "sns.countplot(data=cat_dir, x='listed_in')\n",
    "plt.xticks(rotation=90)\n",
    "plt.savefig(\"listed.png\", dpi=300, format=\"png\")\n",
    "plt.close()"
   ]
  },
  {
   "cell_type": "code",
   "execution_count": 37,
   "metadata": {},
   "outputs": [],
   "source": [
    "templateLoader = FileSystemLoader(searchpath=tmpl)\n",
    "templateEnv = Environment(loader=templateLoader)\n",
    "template = templateEnv.get_template(fichier)\n",
    "data={\n",
    "    'nom':directeur,\n",
    "    'films_dir':film_dir\n",
    "     }\n",
    "outputText = template.render( data )\n",
    "html_file= open('index.html', 'w')\n",
    "html_file.write(outputText)\n",
    "html_file.close()\n"
   ]
  },
  {
   "cell_type": "code",
   "execution_count": null,
   "metadata": {},
   "outputs": [],
   "source": []
  }
 ],
 "metadata": {
  "kernelspec": {
   "display_name": "Python 3",
   "language": "python",
   "name": "python3"
  },
  "language_info": {
   "codemirror_mode": {
    "name": "ipython",
    "version": 3
   },
   "file_extension": ".py",
   "mimetype": "text/x-python",
   "name": "python",
   "nbconvert_exporter": "python",
   "pygments_lexer": "ipython3",
   "version": "3.8.3"
  }
 },
 "nbformat": 4,
 "nbformat_minor": 4
}
