{
 "cells": [
  {
   "cell_type": "code",
   "execution_count": 32,
   "metadata": {},
   "outputs": [],
   "source": [
    "class superstring : \n",
    "    def __init__(self, chaine):\n",
    "        self.ch = chaine\n",
    "    def ajoute(self, char):\n",
    "        self.ch += char\n",
    "    def insert(self,char,i):\n",
    "        self.ch = self.ch[:i] + char + self.ch[i:]\n",
    "    def upper(self):\n",
    "        self.ch = self.ch.upper()\n",
    "    def __str__(self):\n",
    "        return self.ch\n",
    "        \n",
    "        "
   ]
  },
  {
   "cell_type": "code",
   "execution_count": 33,
   "metadata": {},
   "outputs": [
    {
     "name": "stdout",
     "output_type": "stream",
     "text": [
      "ECOUTEZ BIEN C'ESTTRÉS IMPORTANTCE QUE JE DIS !\n"
     ]
    }
   ],
   "source": [
    "sl = superstring(\"Ecoutez bien c'est important\")\n",
    "sl.ajoute(\"ce que je dis !\")\n",
    "sl.insert(\"trés\", 18)\n",
    "sl.upper()\n",
    "print(sl)"
   ]
  },
  {
   "cell_type": "code",
   "execution_count": 34,
   "metadata": {},
   "outputs": [],
   "source": [
    "class superstring : \n",
    "    def __init__(self, chaine):\n",
    "        self.ch = chaine\n",
    "    def ajoute(self, char):\n",
    "        self.ch += char\n",
    "    def insert(self,char,i):\n",
    "        self.ch = self.ch[:i] + char + self.ch[i:]\n",
    "    def capsdown(self):\n",
    "        self.ch = self.ch.upper()\n",
    "    def __str__(self):\n",
    "        return self.ch\n",
    "    "
   ]
  },
  {
   "cell_type": "code",
   "execution_count": 35,
   "metadata": {},
   "outputs": [
    {
     "name": "stdout",
     "output_type": "stream",
     "text": [
      "ECOUTEZ BIEN C'ESTTRÉS IMPORTANTCE QUE JE DIS !\n"
     ]
    }
   ],
   "source": [
    "sl = superstring(\"Ecoutez bien c'est important\")\n",
    "sl.ajoute(\"ce que je dis !\")\n",
    "sl.insert(\"trés\", 18)\n",
    "sl.capsdown()\n",
    "print(sl)"
   ]
  },
  {
   "cell_type": "code",
   "execution_count": 36,
   "metadata": {},
   "outputs": [],
   "source": [
    "class superstring : \n",
    "    def __init__(self, chaine):\n",
    "        self.ch = chaine\n",
    "    def ajoute(self, char):\n",
    "        self.ch += char\n",
    "    def insert(self,char,i):\n",
    "        self.ch = self.ch[:i] + char + self.ch[i:]\n",
    "    def tri(self):\n",
    "        self.ch = self.ch.upper()\n",
    "    def __str__(self):\n",
    "        return self.ch"
   ]
  },
  {
   "cell_type": "code",
   "execution_count": 37,
   "metadata": {},
   "outputs": [
    {
     "name": "stdout",
     "output_type": "stream",
     "text": [
      "ECOUTEZ BIEN C'ESTTRÉS IMPORTANTCE QUE JE DIS !\n"
     ]
    }
   ],
   "source": [
    "sl = superstring(\"Ecoutez bien c'est important\")\n",
    "sl.ajoute(\"ce que je dis !\")\n",
    "sl.insert(\"trés\",18)\n",
    "sl.tri()\n",
    "print(sl)"
   ]
  },
  {
   "cell_type": "code",
   "execution_count": 38,
   "metadata": {},
   "outputs": [],
   "source": [
    "class superstring : \n",
    "    def __init__(self, chaine):\n",
    "        self.ch = chaine\n",
    "    def ajoute(self, char):\n",
    "        self.ch += char\n",
    "    def insert(self,char,i):\n",
    "        self.ch = self.ch[:i] + char + self.ch[i:]\n",
    "    def sorted(self):\n",
    "        self.ch = self.ch.upper()\n",
    "    def __str__(self):\n",
    "        return self.ch"
   ]
  },
  {
   "cell_type": "code",
   "execution_count": 39,
   "metadata": {},
   "outputs": [
    {
     "name": "stdout",
     "output_type": "stream",
     "text": [
      "ECOUTEZ BIEN C'ESTTRÉS IMPORTANTCE QUE JE DIS !\n"
     ]
    }
   ],
   "source": [
    "sl = superstring(\"Ecoutez bien c'est important\")\n",
    "sl.ajoute(\"ce que je dis !\")\n",
    "sl.insert(\"trés\", 18)\n",
    "sl.sorted()\n",
    "print(sl)"
   ]
  },
  {
   "cell_type": "code",
   "execution_count": 40,
   "metadata": {},
   "outputs": [],
   "source": [
    "class superstring : \n",
    "    def __init__(self, chaine):\n",
    "        self.ch = chaine\n",
    "    def ajoute(self, char):\n",
    "        self.ch += char\n",
    "    def insert(self,char,i):\n",
    "        self.ch = self.ch[:i] + char + self.ch[i:]\n",
    "    def join(self):\n",
    "        self.ch = self.ch.upper()\n",
    "    def __str__(self):\n",
    "        return self.ch"
   ]
  },
  {
   "cell_type": "code",
   "execution_count": 41,
   "metadata": {},
   "outputs": [
    {
     "name": "stdout",
     "output_type": "stream",
     "text": [
      "ECOUTEZ BIEN C'ESTTRÉS IMPORTANTCE QUE JE DIS !\n"
     ]
    }
   ],
   "source": [
    "sl = superstring(\"Ecoutez bien c'est important\")\n",
    "sl.ajoute(\"ce que je dis !\")\n",
    "sl.insert(\"trés\", 18)\n",
    "sl.join()\n",
    "print(sl)"
   ]
  },
  {
   "cell_type": "code",
   "execution_count": 42,
   "metadata": {},
   "outputs": [],
   "source": [
    "class formulaire:\n",
    "    def __init__(self,nom,prenom,anneeNaissance):\n",
    "        self.nom = nom.upper()\n",
    "        self.prenom = prenom.upper()\n",
    "        self.anneeNaissance = anneeNaissance\n",
    "    def age(self):\n",
    "        return 2020 - self.anneeNaissance\n",
    "    def majeur(self):\n",
    "        return self.age() >= 18\n",
    "    def memeFamille(self, formulaire):\n",
    "        return self.nom == formulaire.nom"
   ]
  },
  {
   "cell_type": "code",
   "execution_count": 43,
   "metadata": {},
   "outputs": [
    {
     "name": "stdout",
     "output_type": "stream",
     "text": [
      "False\n",
      "True\n",
      "True\n"
     ]
    }
   ],
   "source": [
    "jd = formulaire('Doe', 'John', 2005)\n",
    "ad = formulaire('doe','Alice', 2000)\n",
    "\n",
    "print(jd.majeur())\n",
    "print(ad.majeur())\n",
    "print(jd.memeFamille(ad))\n",
    "      "
   ]
  },
  {
   "cell_type": "code",
   "execution_count": 44,
   "metadata": {},
   "outputs": [
    {
     "name": "stdout",
     "output_type": "stream",
     "text": [
      "False\n",
      "True\n",
      "True\n",
      "True\n",
      "DOE, ALICE, 2000\n",
      "[<__main__.formulaire object at 0x7fc5dd3aaf40>, <__main__.formulaire object at 0x7fc5dd3aaeb0>, <__main__.formulaire object at 0x7fc5dc283e50>, <__main__.formulaire object at 0x7fc5dc283b80>]\n",
      "DOE, ALICE, 2000\n",
      "DOE, ALICE, 2000\n",
      "FRITZ, MEINFREUD, 2003\n",
      "DOE, JOHN, 2005\n"
     ]
    }
   ],
   "source": [
    "class formulaire:\n",
    "    def __init__ (self, nom, prenom, anneeNaissance):\n",
    "        self.nom = nom.upper()\n",
    "        self.prenom = prenom.upper()\n",
    "        self.anneeNaissance = anneeNaissance\n",
    "    def __str__(self):\n",
    "        return \"{}, {}, {}\".format(self.nom, self.prenom, self.anneeNaissance)\n",
    "    def age(self):\n",
    "        return 2020 - self.anneeNaissance\n",
    "    def majeur(self):\n",
    "        return self.age() >= 18\n",
    "    def memeFamille(self, formulaire):\n",
    "        return self.nom == formulaire.nom\n",
    "    def memePersonne(formulaire1, formulaire2):\n",
    "        return (formulaire1.nom == formulaire2.nom) and (formulaire1.prenom == formulaire2.prenom)\n",
    "\n",
    "jd = formulaire(\"Doe\", \"John\", 2005)\n",
    "ad = formulaire(\"doe\", \"Alice\", 2000)\n",
    "bg = formulaire(\"doe\", \"Alice\", 2000)\n",
    "fp = formulaire(\"Fritz\", \"Meinfreud\", 2003)\n",
    "liste = [jd, ad, bg, fp]\n",
    "listeTrié = sorted([jd, ad, bg, fp], key=lambda x: x.anneeNaissance)\n",
    "print(jd.majeur())\n",
    "print(ad.majeur())\n",
    "print(jd.memeFamille(ad))\n",
    "print(formulaire.memePersonne(ad, bg))\n",
    "print(bg)\n",
    "print(liste)\n",
    "for form in listeTrié:\n",
    "print(form)"
   ]
  },
  {
   "cell_type": "code",
   "execution_count": 45,
   "metadata": {},
   "outputs": [],
   "source": [
    "from random import randrange\n",
    "\n",
    "# On initialise toutes les valeurs et couleurs\n",
    "# que peuvent prendre les cartes\n",
    "valeurs = [i for i in range(1, 11)]\n",
    "couleurs = [i for i in range(1, 5)]\n",
    "\n",
    "# On choisi le nombre de tour que va durée la partie\n",
    "# et on initialise le score à 0.\n",
    "nbTours = 7\n",
    "score = 0\n",
    "\n",
    "# Enfin on crée une liste de tuple\n",
    "# pour représenter le paquet de cartes\n",
    "paquet = [(v, c) for v in valeurs for c in couleurs]\n",
    "main1, main2 = [], []"
   ]
  },
  {
   "cell_type": "code",
   "execution_count": 46,
   "metadata": {},
   "outputs": [],
   "source": [
    "for i in range(nbTours):\n",
    "    # Le joueur 1 tire une carte aléatoirement dansle paquet\n",
    "    x = paquet[randrange(len(paquet))]\n",
    "    # La carte est ajouté à la main du joueur 1\n",
    "    main1.append(x)\n",
    "    # La carte tiré est supprimé du paquet\n",
    "    paquet.remove(x)\n",
    "    # Idem pour le joueur 2\n",
    "    y = paquet[randrange(len(paquet))]\n",
    "    main2.append(y)\n",
    "    paquet.remove(y)"
   ]
  },
  {
   "cell_type": "code",
   "execution_count": 47,
   "metadata": {},
   "outputs": [],
   "source": [
    "for i in range(nbTours):\n",
    "    if main1[i][0] > main2[i][0] or (\n",
    "    main1[i][0] == main2[i][0] and main1[i][1] > main2[i][1]):\n",
    "        score += 1\n",
    "    else : \n",
    "        score -= 1"
   ]
  },
  {
   "cell_type": "code",
   "execution_count": 48,
   "metadata": {},
   "outputs": [
    {
     "name": "stdout",
     "output_type": "stream",
     "text": [
      "Vainqueur : joueur 1\n"
     ]
    }
   ],
   "source": [
    "print(\"Vainqueur : \" + (\"joueur 1\" if score > 0 else \"joueur 2\"))"
   ]
  },
  {
   "cell_type": "code",
   "execution_count": 52,
   "metadata": {},
   "outputs": [],
   "source": [
    "from random import randrange\n",
    "\n",
    "nbTours = 7\n",
    "score = 0\n",
    "\n",
    "class Carte:\n",
    "    def __init__(self, couleur, valeur):\n",
    "        self.couleur = couleur\n",
    "        self.valeur = valeur\n",
    "\n",
    "class Partie:\n",
    "    def __init__(self, tours, couleurs, valeurs):\n",
    "        self.score = 0\n",
    "        self.nbTours = tours\n",
    "        self.paquet = [Carte(v, c)\n",
    "                       for v in range(valeurs + 1)\n",
    "                       for c in range(couleurs + 1)]\n",
    "    def jouer(self):\n",
    "        self.main1 = piocher(self.paquet, self.nbTours)\n",
    "        self.main2 = piocher(self.paquet, self.nbTours)\n",
    "        for i in range(self.nbTours):\n",
    "            self.score += (1 if plusGrandQue(\n",
    "            self.main1[i], self.main2[i]) else -1)\n",
    "        print(\"Vainqueur : \" + \n",
    "              (\"joueur 1\" if score > 0 else \"joueur 2\"))\n",
    "                \n",
    "def plusGrandQue(carte1, carte2):\n",
    "    return carte1.valeur > carte2.valeur or (\n",
    "    carte1.valeur == carte2.valeur and\n",
    "    carte1.couleur > carte2.couleur)\n",
    "\n",
    "def piocher(paquet, nb):\n",
    "    main = []\n",
    "    for i in range(nb):\n",
    "            x = paquet[randrange(len(paquet))]\n",
    "            main.append(x)\n",
    "            paquet.remove(x)\n",
    "    return main\n",
    "            "
   ]
  },
  {
   "cell_type": "code",
   "execution_count": null,
   "metadata": {},
   "outputs": [],
   "source": []
  }
 ],
 "metadata": {
  "kernelspec": {
   "display_name": "Python 3",
   "language": "python",
   "name": "python3"
  },
  "language_info": {
   "codemirror_mode": {
    "name": "ipython",
    "version": 3
   },
   "file_extension": ".py",
   "mimetype": "text/x-python",
   "name": "python",
   "nbconvert_exporter": "python",
   "pygments_lexer": "ipython3",
   "version": "3.8.3"
  }
 },
 "nbformat": 4,
 "nbformat_minor": 4
}
